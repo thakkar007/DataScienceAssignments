{
 "cells": [
  {
   "cell_type": "code",
   "execution_count": 3,
   "id": "17b5acf1-9abc-4e14-8b68-ce74a6ad3237",
   "metadata": {},
   "outputs": [
    {
     "name": "stdout",
     "output_type": "stream",
     "text": [
      "Original list of tuples:\n",
      "[('Sachin Tendulkar', 34357), ('Ricky Ponting', 27483), ('Jack Kallis', 25534), ('Virat Kohli', 24936)]\n",
      "\n",
      "Sorting the List of Tuples:\n",
      "[('Virat Kohli', 24936), ('Jack Kallis', 25534), ('Ricky Ponting', 27483), ('Sachin Tendulkar', 34357)]\n"
     ]
    }
   ],
   "source": [
    "runs_scored = [('Sachin Tendulkar', 34357), ('Ricky Ponting', 27483), ('Jack Kallis', 25534), ('Virat Kohli', 24936)]\n",
    "print(\"Original list of tuples:\")\n",
    "print(runs_scored)\n",
    "runs_scored.sort(key = lambda x: x[1])\n",
    "print(\"\\nSorted List of Tuples:\")\n",
    "print(runs_scored)"
   ]
  },
  {
   "cell_type": "code",
   "execution_count": 4,
   "id": "b91ecb26-1f4a-4f49-afec-d9169159f1d9",
   "metadata": {},
   "outputs": [
    {
     "name": "stdout",
     "output_type": "stream",
     "text": [
      "Original list of integers:\n",
      "[1, 2, 3, 4, 5, 6, 7, 8, 9, 10]\n",
      "\n",
      "Square every number of the said list:\n",
      "[1, 4, 9, 16, 25, 36, 49, 64, 81, 100]\n"
     ]
    }
   ],
   "source": [
    "nums = [1, 2, 3, 4, 5, 6, 7, 8, 9, 10]\n",
    "print(\"Original list of integers:\")\n",
    "print(nums)\n",
    "print(\"\\nSquare every number of the said list:\")\n",
    "square_nums = list(map(lambda x: x ** 2, nums))\n",
    "print(square_nums)"
   ]
  },
  {
   "cell_type": "code",
   "execution_count": 16,
   "id": "b09722a3-1347-49c5-98c3-bfd60f587e2d",
   "metadata": {},
   "outputs": [
    {
     "name": "stdout",
     "output_type": "stream",
     "text": [
      "Original list: \n",
      "[1, 2, 3, 4, 5, 6, 7, 8, 9, 10]\n",
      "\n",
      "List of strings:\n",
      "('1', '2', '3', '4', '5', '6', '7', '8', '9', '10')\n"
     ]
    }
   ],
   "source": [
    "from functools import reduce\n",
    "nums_list = [1,2,3,4,5,6,7,8,9,10]\n",
    "print(\"Original list: \")\n",
    "print(nums_list)\n",
    "result_list = tuple(map(str,nums_list))\n",
    "print(\"\\nList of strings:\")\n",
    "print(result_list)"
   ]
  },
  {
   "cell_type": "code",
   "execution_count": 18,
   "id": "8f85759e-2536-4a84-b968-a8ec14b86694",
   "metadata": {},
   "outputs": [
    {
     "name": "stdout",
     "output_type": "stream",
     "text": [
      "Original list of numbers:\n",
      "[10, 20, 15, 11]\n",
      "\n",
      "Product of the said numbers (without using for loop): 33000\n"
     ]
    }
   ],
   "source": [
    "from functools import reduce\n",
    "nums = [10, 20, 15 , 11]\n",
    "print(\"Original list of numbers:\")\n",
    "print(nums)\n",
    "nums_product = reduce((lambda x, y: x * y),nums)\n",
    "print(\"\\nProduct of the said numbers (without using for loop):\",nums_product)"
   ]
  },
  {
   "cell_type": "code",
   "execution_count": 26,
   "id": "e01ca366-1aaa-4476-a794-9c63478347aa",
   "metadata": {},
   "outputs": [
    {
     "name": "stdout",
     "output_type": "stream",
     "text": [
      "Original list of numbers:\n",
      "[2, 3, 6, 9, 27, 60, 90, 120, 55, 46]\n",
      "Numbers divisible by 2 or 3 are: \n",
      "[2, 3, 6, 9, 27, 60, 90, 120, 46]\n"
     ]
    }
   ],
   "source": [
    "num_list = [2, 3, 6, 9, 27, 60, 90, 120, 55, 46]\n",
    "print(\"Original list of numbers:\")\n",
    "print(num_list)\n",
    "# use anonymous function to filter\n",
    "result = list(filter(lambda x: (x % 2 == 0) or (x % 3 == 0) , num_list))\n",
    "print(\"Numbers divisible by 2 or 3 are: \")\n",
    "print(result)"
   ]
  },
  {
   "cell_type": "code",
   "execution_count": 27,
   "id": "c4398dba-fc3a-4235-8610-8eb0253ebeda",
   "metadata": {},
   "outputs": [
    {
     "name": "stdout",
     "output_type": "stream",
     "text": [
      "Orginal list of strings:\n",
      "['python', 'php', 'aba', 'radar', 'level']\n",
      "\n",
      "List of palindromes:\n",
      "['php', 'aba', 'radar', 'level']\n"
     ]
    }
   ],
   "source": [
    "texts = ['python', 'php', 'aba', 'radar', 'level']\n",
    "print(\"Orginal list of strings:\")\n",
    "print(texts) \n",
    "result = list(filter(lambda x: (x == \"\".join(reversed(x))), texts)) \n",
    "print(\"\\nList of palindromes:\")\n",
    "print(result) "
   ]
  },
  {
   "cell_type": "code",
   "execution_count": null,
   "id": "d95bbb3f-7856-4d5f-abff-76ef5ac4af42",
   "metadata": {},
   "outputs": [],
   "source": []
  }
 ],
 "metadata": {
  "kernelspec": {
   "display_name": "Python 3 (ipykernel)",
   "language": "python",
   "name": "python3"
  },
  "language_info": {
   "codemirror_mode": {
    "name": "ipython",
    "version": 3
   },
   "file_extension": ".py",
   "mimetype": "text/x-python",
   "name": "python",
   "nbconvert_exporter": "python",
   "pygments_lexer": "ipython3",
   "version": "3.10.8"
  }
 },
 "nbformat": 4,
 "nbformat_minor": 5
}
